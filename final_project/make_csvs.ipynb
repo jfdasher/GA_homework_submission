{
 "cells": [
  {
   "cell_type": "code",
   "execution_count": 11,
   "metadata": {
    "collapsed": false
   },
   "outputs": [
    {
     "name": "stdout",
     "output_type": "stream",
     "text": [
      "Converting data\\test.json to data\\test.csv\n",
      "Converting data\\yelp_academic_dataset_business.json to data\\yelp_academic_dataset_business.csv\n",
      "Converting data\\yelp_academic_dataset_checkin.json to data\\yelp_academic_dataset_checkin.csv\n",
      "Converting data\\yelp_academic_dataset_review.json to data\\yelp_academic_dataset_review.csv\n",
      "Converting data\\yelp_academic_dataset_tip.json to data\\yelp_academic_dataset_tip.csv\n",
      "Converting data\\yelp_academic_dataset_user.json to data\\yelp_academic_dataset_user.csv\n"
     ]
    }
   ],
   "source": [
    "import json\n",
    "import pandas as pd\n",
    "from glob import glob\n",
    "\n",
    "def convert(x, skips):\n",
    "    ''' Convert a json string to a flat python dictionary\n",
    "    which can be passed into Pandas. '''\n",
    "    ob = json.loads(x)\n",
    "    \n",
    "    for k, v in ob.items():\n",
    "        if k not in skips:\n",
    "            if isinstance(v, list):\n",
    "                ob[k] = ','.join(v)\n",
    "            elif isinstance(v, dict):\n",
    "                for kk, vv in v.items():\n",
    "                    ob['%s_%s' % (k, kk)] = vv\n",
    "                del ob[k]\n",
    "    return ob\n",
    "\n",
    "\n",
    "\n",
    "\n",
    "for json_filename in glob('data/*.json'):\n",
    "    csv_filename = '%s.csv' % json_filename[:-5]\n",
    "    print 'Converting %s to %s' % (json_filename, csv_filename)\n",
    "    df = pd.DataFrame([convert(line, ['elite']) for line in file(json_filename)])\n",
    "    df.to_csv(csv_filename, encoding='utf-8', index=False)\n"
   ]
  },
  {
   "cell_type": "code",
   "execution_count": 3,
   "metadata": {
    "collapsed": false
   },
   "outputs": [],
   "source": [
    "cities = pd.read_csv(\"data/PEP_2015_PEPANNRSIP.US12A_with_ann.csv\")[['GC_RANK.display-label','respop72015']]\n",
    "\n",
    "cities['city'] = cities['GC_RANK.display-label'].apply(lambda x : x.split(',')[0].strip().replace(\"United States - \",\"\").replace(\" city\",\"\"))\n",
    "cities['state'  ] = cities['GC_RANK.display-label'].apply(lambda x : x.split(',')[-1].strip())\n",
    "\n",
    "\n",
    "\n",
    "cities = cities[['city','state','respop72015']]\n",
    "\n"
   ]
  },
  {
   "cell_type": "code",
   "execution_count": 8,
   "metadata": {
    "collapsed": false
   },
   "outputs": [
    {
     "name": "stdout",
     "output_type": "stream",
     "text": [
      "                       name  review_count  stars      type         city state  \\\n",
      "0                 Mr Hoagie             4    4.5  business   Dravosburg    PA   \n",
      "1              Clancy's Pub             4    3.5  business   Dravosburg    PA   \n",
      "2          Joe Cislo's Auto             3    5.0  business   Dravosburg    PA   \n",
      "3  Cool Springs Golf Center             5    2.5  business  Bethel Park    PA   \n",
      "4                   Verizon             5    2.5  business   Pittsburgh    PA   \n",
      "\n",
      "              business_id  \n",
      "0  5UmKMjUEUNdYWqANhGckJw  \n",
      "1  UsFtqoBl7naz8AVUBZMjQQ  \n",
      "2  3eu6MEFlq2Dg7bQh8QbdOg  \n",
      "3  cE27W9VPgO88Qxe4ol6y_g  \n",
      "4  HZdLhv6COCleJMo7nPl-RA  \n",
      "(77445, 7)\n",
      "(73001, 7)\n",
      "                       name  review_count  stars      type         city  \\\n",
      "0                 Mr Hoagie             4    4.5  business   Dravosburg   \n",
      "1              Clancy's Pub             4    3.5  business   Dravosburg   \n",
      "2          Joe Cislo's Auto             3    5.0  business   Dravosburg   \n",
      "3  Cool Springs Golf Center             5    2.5  business  Bethel Park   \n",
      "4                   Verizon             5    2.5  business   Pittsburgh   \n",
      "\n",
      "          state             business_id  \n",
      "0  Pennsylvania  5UmKMjUEUNdYWqANhGckJw  \n",
      "1  Pennsylvania  UsFtqoBl7naz8AVUBZMjQQ  \n",
      "2  Pennsylvania  3eu6MEFlq2Dg7bQh8QbdOg  \n",
      "3  Pennsylvania  cE27W9VPgO88Qxe4ol6y_g  \n",
      "4  Pennsylvania  HZdLhv6COCleJMo7nPl-RA  \n"
     ]
    },
    {
     "data": {
      "text/plain": [
       "['name', 'review_count', 'stars', 'type', 'city', 'state', 'business_id']"
      ]
     },
     "execution_count": 8,
     "metadata": {},
     "output_type": "execute_result"
    }
   ],
   "source": [
    "businesses = pd.read_csv(\"data/yelp_academic_dataset_business.csv\")\n",
    "\n",
    "businesses = businesses[['name','review_count', 'stars', 'type','city','state','business_id']]\n",
    "\n",
    "print businesses.head()\n",
    "states = {\n",
    "        'AK': 'Alaska',\n",
    "        'AL': 'Alabama',\n",
    "        'AR': 'Arkansas',\n",
    "        'AS': 'American Samoa',\n",
    "        'AZ': 'Arizona',\n",
    "        'BC': 'British Columbia',\n",
    "        'CA': 'California',\n",
    "        'CO': 'Colorado',\n",
    "        'CT': 'Connecticut',\n",
    "        'DC': 'District of Columbia',\n",
    "        'DE': 'Delaware',\n",
    "        'FL': 'Florida',\n",
    "        'GA': 'Georgia',\n",
    "        'GU': 'Guam',\n",
    "        'HI': 'Hawaii',\n",
    "        'IA': 'Iowa',\n",
    "        'ID': 'Idaho',\n",
    "        'IL': 'Illinois',\n",
    "        'IN': 'Indiana',\n",
    "        'KS': 'Kansas',\n",
    "        'KY': 'Kentucky',\n",
    "        'LA': 'Louisiana',\n",
    "        'MA': 'Massachusetts',\n",
    "        'MD': 'Maryland',\n",
    "        'ME': 'Maine',\n",
    "        'MI': 'Michigan',\n",
    "        'MN': 'Minnesota',\n",
    "        'MO': 'Missouri',\n",
    "        'MP': 'Northern Mariana Islands',\n",
    "        'MS': 'Mississippi',\n",
    "        'MT': 'Montana',\n",
    "        'NA': 'National',\n",
    "        'NC': 'North Carolina',\n",
    "        'ND': 'North Dakota',\n",
    "        'NE': 'Nebraska',\n",
    "        'NH': 'New Hampshire',\n",
    "        'NJ': 'New Jersey',\n",
    "        'NM': 'New Mexico',\n",
    "        'NV': 'Nevada',\n",
    "        'NY': 'New York',\n",
    "        'OH': 'Ohio',\n",
    "        'OK': 'Oklahoma',\n",
    "        'ON': 'Ontario',\n",
    "        'OR': 'Oregon',\n",
    "        'PA': 'Pennsylvania',\n",
    "        'PR': 'Puerto Rico',\n",
    "        'QC': 'Quebec',\n",
    "        'RI': 'Rhode Island',\n",
    "        'SC': 'South Carolina',\n",
    "        'SD': 'South Dakota',\n",
    "        'TN': 'Tennessee',\n",
    "        'TX': 'Texas',\n",
    "        'UT': 'Utah',\n",
    "        'VA': 'Virginia',\n",
    "        'VI': 'Virgin Islands',\n",
    "        'VT': 'Vermont',\n",
    "        'WA': 'Washington',\n",
    "        'WI': 'Wisconsin',\n",
    "        'WV': 'West Virginia',\n",
    "        'WY': 'Wyoming'}\n",
    "stateNames = states.keys()\n",
    "print businesses.shape\n",
    "businesses = businesses[businesses['state'].isin(stateNames)]\n",
    "print businesses.shape\n",
    "businesses['state'  ] = businesses['state'].apply(lambda x : states[x])\n",
    "print businesses.head()\n",
    "list(businesses.columns)\n"
   ]
  },
  {
   "cell_type": "code",
   "execution_count": 9,
   "metadata": {
    "collapsed": false
   },
   "outputs": [],
   "source": [
    "merged = pd.merge(businesses, cities, how='left', left_on=['city','state'], right_on=['city','state'], sort=True, copy=True, indicator=False)"
   ]
  },
  {
   "cell_type": "code",
   "execution_count": 10,
   "metadata": {
    "collapsed": false
   },
   "outputs": [
    {
     "name": "stdout",
     "output_type": "stream",
     "text": [
      "                     name  review_count  stars      type            city  \\\n",
      "0   A B-Z Auto Care, Inc.            15    4.5  business  110. Las Vegas   \n",
      "1               Hi-Health             4    2.5  business       Ahwatukee   \n",
      "2          My Wine Cellar           131    4.0  business       Ahwatukee   \n",
      "3  Florencia Pizza Bistro           111    4.5  business       Ahwatukee   \n",
      "4        Hertz Rent A Car            17    2.0  business       Ahwatukee   \n",
      "\n",
      "     state             business_id  respop72015  \n",
      "0   Nevada  -ogzDp-rxTVSq3ecMohf1A          NaN  \n",
      "1  Arizona  3f63xakGO8jjjvgkULKKqA          NaN  \n",
      "2  Arizona  Our6bzte5W1wlIeOu9luug          NaN  \n",
      "3  Arizona  dG7KLQ1a584wI5jSADIPIg          NaN  \n",
      "4  Arizona  4-PHJ438SB3b1o_WE8rT7A          NaN  \n",
      "623747.0     17422\n",
      "1563025.0    10629\n",
      "827097.0      5188\n",
      "236839.0      5139\n",
      "304391.0      3337\n",
      "471825.0      3190\n",
      "285667.0      2839\n",
      "175826.0      2773\n",
      "260828.0      2425\n",
      "248951.0      2104\n",
      "240126.0      1823\n",
      "171237.0       929\n",
      "234807.0       819\n",
      "128422.0       587\n",
      "86096.0        462\n",
      "79003.0        459\n",
      "80684.0        385\n",
      "51460.0        181\n",
      "87696.0        161\n",
      "120207.0         2\n",
      "1300092.0        1\n",
      "3971883.0        1\n",
      "71548.0          1\n",
      "66286.0          1\n",
      "105319.0         1\n",
      "1394928.0        1\n",
      "Name: respop72015, dtype: int64\n"
     ]
    }
   ],
   "source": [
    "\n",
    "print merged.head()\n",
    "print merged.respop72015.value_counts()"
   ]
  },
  {
   "cell_type": "code",
   "execution_count": 100,
   "metadata": {
    "collapsed": false
   },
   "outputs": [
    {
     "data": {
      "image/png": "[encoded data removed]",
      "text/plain": [
       "<matplotlib.figure.Figure at 0x9952cc0>"
      ]
     },
     "metadata": {},
     "output_type": "display_data"
    }
   ],
   "source": [
    "%matplotlib inline\n",
    "import numpy as np\n",
    "import pandas as pd\n",
    "import matplotlib as mpl\n",
    "import matplotlib.pyplot as plt\n",
    "import seaborn as sns\n",
    "sns.set(color_codes=True)\n",
    "sns.lmplot(x=\"respop72015\", y=\"stars\", data=merged);"
   ]
  },
  {
   "cell_type": "code",
   "execution_count": 14,
   "metadata": {
    "collapsed": false
   },
   "outputs": [
    {
     "name": "stdout",
     "output_type": "stream",
     "text": [
      "['business_id', 'date', 'review_id', 'stars', 'text', 'type', 'user_id', 'votes_cool', 'votes_funny', 'votes_useful']\n",
      "              business_id        date               review_id  stars  \\\n",
      "0  5UmKMjUEUNdYWqANhGckJw  2012-08-01  Ya85v4eqdd6k9Od8HbQjyA      4   \n",
      "1  5UmKMjUEUNdYWqANhGckJw  2014-02-13  KPvLNJ21_4wbYNctrOwWdQ      5   \n",
      "2  5UmKMjUEUNdYWqANhGckJw  2015-10-31  fFSoGV46Yxuwbr3fHNuZig      5   \n",
      "3  UsFtqoBl7naz8AVUBZMjQQ  2013-11-08  Di3exaUCFNw1V4kSNW5pgA      5   \n",
      "4  UsFtqoBl7naz8AVUBZMjQQ  2014-03-29  0Lua2-PbqEQMjD9r89-asw      3   \n",
      "\n",
      "                                                text    type  \\\n",
      "0  Mr Hoagie is an institution. Walking in, it do...  review   \n",
      "1  Excellent food. Superb customer service. I mis...  review   \n",
      "2  Yes this place is a little out dated and not o...  review   \n",
      "3  All the food is great here. But the best thing...  review   \n",
      "4  We checked this place out this past Monday for...  review   \n",
      "\n",
      "                  user_id  votes_cool  votes_funny  votes_useful  \n",
      "0  PUFPaY9KxDAcGqfsorJp3Q           0            0             0  \n",
      "1  Iu6AxdBYGR4A0wspR9BYHA           0            0             0  \n",
      "2  auESFwWvW42h6alXgFxAXQ           0            0             0  \n",
      "3  uK8tzraOp4M5u3uYrqIBXg           0            0             0  \n",
      "4  I_47G-R2_egp7ME5u_ltew           0            0             0  \n"
     ]
    }
   ],
   "source": [
    "reviews = pd.read_csv(\"data/yelp_academic_dataset_review.csv\", nrows=2000)\n",
    "print list(reviews.columns.values)\n",
    "\n",
    "\n",
    "\n",
    "print reviews.head()\n"
   ]
  },
  {
   "cell_type": "code",
   "execution_count": null,
   "metadata": {
    "collapsed": true
   },
   "outputs": [],
   "source": []
  }
 ],
 "metadata": {
  "anaconda-cloud": {},
  "kernelspec": {
   "display_name": "Python [Root]",
   "language": "python",
   "name": "Python [Root]"
  },
  "language_info": {
   "codemirror_mode": {
    "name": "ipython",
    "version": 2
   },
   "file_extension": ".py",
   "mimetype": "text/x-python",
   "name": "python",
   "nbconvert_exporter": "python",
   "pygments_lexer": "ipython2",
   "version": "2.7.12"
  }
 },
 "nbformat": 4,
 "nbformat_minor": 0
}
