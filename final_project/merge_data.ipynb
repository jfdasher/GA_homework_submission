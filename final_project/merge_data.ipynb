{
 "cells": [
  {
   "cell_type": "code",
   "execution_count": 1,
   "metadata": {
    "collapsed": false
   },
   "outputs": [],
   "source": [
    "import json\n",
    "import pandas as pd\n",
    "from glob import glob\n",
    "\n"
   ]
  },
  {
   "cell_type": "code",
   "execution_count": 2,
   "metadata": {
    "collapsed": false
   },
   "outputs": [
    {
     "name": "stdout",
     "output_type": "stream",
     "text": [
      "                                                  city                 state  \\\n",
      "0                                             New York              New York   \n",
      "1                                          Los Angeles            California   \n",
      "2                                              Chicago              Illinois   \n",
      "3                                              Houston                 Texas   \n",
      "4                                         Philadelphia          Pennsylvania   \n",
      "5                                              Phoenix               Arizona   \n",
      "6                                          San Antonio                 Texas   \n",
      "7                                            San Diego            California   \n",
      "8                                               Dallas                 Texas   \n",
      "9                                             San Jose            California   \n",
      "10                                              Austin                 Texas   \n",
      "11                                        Jacksonville               Florida   \n",
      "12                                       San Francisco            California   \n",
      "13                              Indianapolis (balance)               Indiana   \n",
      "14                                            Columbus                  Ohio   \n",
      "15                                          Fort Worth                 Texas   \n",
      "16                                           Charlotte        North Carolina   \n",
      "17                                             Seattle            Washington   \n",
      "18                                              Denver              Colorado   \n",
      "19                                             El Paso                 Texas   \n",
      "20                                             Detroit              Michigan   \n",
      "21                                          Washington  District of Columbia   \n",
      "22                                              Boston         Massachusetts   \n",
      "23                                             Memphis             Tennessee   \n",
      "24   Nashville-Davidson metropolitan government (ba...             Tennessee   \n",
      "25                                            Portland                Oregon   \n",
      "26                                       Oklahoma City              Oklahoma   \n",
      "27                                           Las Vegas                Nevada   \n",
      "28                                           Baltimore              Maryland   \n",
      "29   Louisville/Jefferson County metro government (...              Kentucky   \n",
      "..                                                 ...                   ...   \n",
      "728                                         Brookhaven               Georgia   \n",
      "729                                        Palm Desert            California   \n",
      "730                                             Joplin              Missouri   \n",
      "731                                               Enid              Oklahoma   \n",
      "732                                     Bonita Springs               Florida   \n",
      "733                                           Caldwell                 Idaho   \n",
      "734                                         Minnetonka             Minnesota   \n",
      "735                                      Pinellas Park               Florida   \n",
      "736                                       Battle Creek              Michigan   \n",
      "737                                        Casa Grande               Arizona   \n",
      "738                                       Grand Island              Nebraska   \n",
      "739                                          Grapevine                 Texas   \n",
      "740                                           Kentwood              Michigan   \n",
      "741                                             Tigard                Oregon   \n",
      "742                                       Apple Valley             Minnesota   \n",
      "743                                         Plainfield            New Jersey   \n",
      "744                                      Leesburg town              Virginia   \n",
      "745                                       Coral Gables               Florida   \n",
      "746                                           Lakewood                  Ohio   \n",
      "747                                             Burien            Washington   \n",
      "748                                              Logan                  Utah   \n",
      "749                                            Olympia            Washington   \n",
      "750                                        Aliso Viejo            California   \n",
      "751                                          Galveston                 Texas   \n",
      "752                                              Poway            California   \n",
      "753                                              Edina             Minnesota   \n",
      "754                                               Troy              New York   \n",
      "755                                         Charleston         West Virginia   \n",
      "756                                            Saginaw              Michigan   \n",
      "757                                      Niagara Falls              New York   \n",
      "\n",
      "     respop72015  \n",
      "0        8550405  \n",
      "1        3971883  \n",
      "2        2720546  \n",
      "3        2296224  \n",
      "4        1567442  \n",
      "5        1563025  \n",
      "6        1469845  \n",
      "7        1394928  \n",
      "8        1300092  \n",
      "9        1026908  \n",
      "10        931830  \n",
      "11        868031  \n",
      "12        864816  \n",
      "13        853173  \n",
      "14        850106  \n",
      "15        833319  \n",
      "16        827097  \n",
      "17        684451  \n",
      "18        682545  \n",
      "19        681124  \n",
      "20        677116  \n",
      "21        672228  \n",
      "22        667137  \n",
      "23        655770  \n",
      "24        654610  \n",
      "25        632309  \n",
      "26        631346  \n",
      "27        623747  \n",
      "28        621849  \n",
      "29        615366  \n",
      "..           ...  \n",
      "728        51910  \n",
      "729        51869  \n",
      "730        51818  \n",
      "731        51776  \n",
      "732        51704  \n",
      "733        51686  \n",
      "734        51669  \n",
      "735        51617  \n",
      "736        51589  \n",
      "737        51460  \n",
      "738        51440  \n",
      "739        51404  \n",
      "740        51357  \n",
      "741        51253  \n",
      "742        51221  \n",
      "743        51217  \n",
      "744        51209  \n",
      "745        51117  \n",
      "746        50656  \n",
      "747        50467  \n",
      "748        50371  \n",
      "749        50302  \n",
      "750        50195  \n",
      "751        50180  \n",
      "752        50157  \n",
      "753        50138  \n",
      "754        49906  \n",
      "755        49736  \n",
      "756        49347  \n",
      "757        48916  \n",
      "\n",
      "[758 rows x 3 columns]\n"
     ]
    }
   ],
   "source": [
    "cities = pd.read_csv(\"data/PEP_2015_PEPANNRSIP.US12A_with_ann.csv\")[['GC_RANK.display-label','respop72015']]\n",
    "\n",
    "cities['city'] = cities['GC_RANK.display-label'].apply(lambda x : x.split(',')[0].strip().replace(\"United States - \",\"\").replace(\" city\",\"\"))\n",
    "cities['state'  ] = cities['GC_RANK.display-label'].apply(lambda x : x.split(',')[-1].strip())\n",
    "\n",
    "\n",
    "\n",
    "cities = cities[['city','state','respop72015']]\n",
    "\n",
    "print cities"
   ]
  },
  {
   "cell_type": "code",
   "execution_count": 3,
   "metadata": {
    "collapsed": false
   },
   "outputs": [
    {
     "name": "stderr",
     "output_type": "stream",
     "text": [
      "C:\\Anaconda2\\lib\\site-packages\\IPython\\core\\interactiveshell.py:2723: DtypeWarning: Columns (13,25) have mixed types. Specify dtype option on import or set low_memory=False.\n",
      "  interactivity=interactivity, compiler=compiler, result=result)\n"
     ]
    },
    {
     "name": "stdout",
     "output_type": "stream",
     "text": [
      "Arizona           32615\n",
      "Nevada            21233\n",
      "North Carolina     6162\n",
      "Pennsylvania       3754\n",
      "Wisconsin          2802\n",
      "Illinois            737\n",
      "South Carolina      271\n",
      "California            3\n",
      "Texas                 2\n",
      "Minnesota             1\n",
      "Massachusetts         1\n",
      "Oregon                1\n",
      "Arkansas              1\n",
      "New Mexico            1\n",
      "Alabama               1\n",
      "Name: state, dtype: int64\n",
      "                       name  review_count  stars      type         city  \\\n",
      "0                 Mr Hoagie             4    4.5  business   Dravosburg   \n",
      "1              Clancy's Pub             4    3.5  business   Dravosburg   \n",
      "2          Joe Cislo's Auto             3    5.0  business   Dravosburg   \n",
      "3  Cool Springs Golf Center             5    2.5  business  Bethel Park   \n",
      "4                   Verizon             5    2.5  business   Pittsburgh   \n",
      "\n",
      "          state             business_id  \n",
      "0  Pennsylvania  5UmKMjUEUNdYWqANhGckJw  \n",
      "1  Pennsylvania  UsFtqoBl7naz8AVUBZMjQQ  \n",
      "2  Pennsylvania  3eu6MEFlq2Dg7bQh8QbdOg  \n",
      "3  Pennsylvania  cE27W9VPgO88Qxe4ol6y_g  \n",
      "4  Pennsylvania  HZdLhv6COCleJMo7nPl-RA  \n"
     ]
    }
   ],
   "source": [
    "businesses = pd.read_csv(\"data/yelp_academic_dataset_business.csv\")\n",
    "#print list(businesses.columns)\n",
    "businesses = businesses[['name','review_count', 'stars', 'type','city','state','business_id']]\n",
    "\n",
    "states = {\n",
    "        'AK': 'Alaska',\n",
    "        'AL': 'Alabama',\n",
    "        'AR': 'Arkansas',\n",
    "        'AZ': 'Arizona',\n",
    "        'CA': 'California',\n",
    "        'CO': 'Colorado',\n",
    "        'CT': 'Connecticut',\n",
    "        'DC': 'District of Columbia',\n",
    "        'DE': 'Delaware',\n",
    "        'FL': 'Florida',\n",
    "        'GA': 'Georgia',\n",
    "        'GU': 'Guam',\n",
    "        'HI': 'Hawaii',\n",
    "        'IA': 'Iowa',\n",
    "        'ID': 'Idaho',\n",
    "        'IL': 'Illinois',\n",
    "        'IN': 'Indiana',\n",
    "        'KS': 'Kansas',\n",
    "        'KY': 'Kentucky',\n",
    "        'LA': 'Louisiana',\n",
    "        'MA': 'Massachusetts',\n",
    "        'MD': 'Maryland',\n",
    "        'ME': 'Maine',\n",
    "        'MI': 'Michigan',\n",
    "        'MN': 'Minnesota',\n",
    "        'MO': 'Missouri',\n",
    "        'MS': 'Mississippi',\n",
    "        'MT': 'Montana',\n",
    "        'NA': 'National',\n",
    "        'NC': 'North Carolina',\n",
    "        'ND': 'North Dakota',\n",
    "        'NE': 'Nebraska',\n",
    "        'NH': 'New Hampshire',\n",
    "        'NJ': 'New Jersey',\n",
    "        'NM': 'New Mexico',\n",
    "        'NV': 'Nevada',\n",
    "        'NY': 'New York',\n",
    "        'OH': 'Ohio',\n",
    "        'OK': 'Oklahoma',\n",
    "        'OR': 'Oregon',\n",
    "        'PA': 'Pennsylvania',\n",
    "        'RI': 'Rhode Island',\n",
    "        'SC': 'South Carolina',\n",
    "        'SD': 'South Dakota',\n",
    "        'TN': 'Tennessee',\n",
    "        'TX': 'Texas',\n",
    "        'UT': 'Utah',\n",
    "        'VA': 'Virginia',\n",
    "        'VT': 'Vermont',\n",
    "        'WA': 'Washington',\n",
    "        'WI': 'Wisconsin',\n",
    "        'WV': 'West Virginia',\n",
    "        'WY': 'Wyoming'}\n",
    "stateNames = states.keys()\n",
    "#print businesses.shape\n",
    "businesses = businesses[businesses['state'].isin(stateNames)]\n",
    "#print businesses.shape\n",
    "businesses['state'  ] = businesses['state'].apply(lambda x : states[x])\n",
    "print businesses['state'].value_counts()\n",
    "print businesses.head()\n",
    "#print businesses.head()\n",
    "#list(businesses.columns)\n",
    "#businesses = businesses[businesses['state'].isin(states.keys())]\n",
    "#print                                           =='EDH'].city.value_counts()"
   ]
  },
  {
   "cell_type": "code",
   "execution_count": 4,
   "metadata": {
    "collapsed": false
   },
   "outputs": [],
   "source": [
    "merged = pd.merge(businesses, cities, how='left', left_on=['city','state'], right_on=['city','state'], sort=True, copy=True, indicator=False)"
   ]
  },
  {
   "cell_type": "code",
   "execution_count": 5,
   "metadata": {
    "collapsed": false
   },
   "outputs": [
    {
     "ename": "SyntaxError",
     "evalue": "invalid syntax (<ipython-input-5-7938e8d68f08>, line 3)",
     "output_type": "error",
     "traceback": [
      "\u001b[1;36m  File \u001b[1;32m\"<ipython-input-5-7938e8d68f08>\"\u001b[1;36m, line \u001b[1;32m3\u001b[0m\n\u001b[1;33m    merged['big'  ] = merged['respop72015'].apply(lambda x : np.isnull()  states[x])\u001b[0m\n\u001b[1;37m                                                                               ^\u001b[0m\n\u001b[1;31mSyntaxError\u001b[0m\u001b[1;31m:\u001b[0m invalid syntax\n"
     ]
    }
   ],
   "source": [
    "\n",
    "print merged[merged['respop72015'].isnull()].shape\n",
    "merged['big'  ] = merged['respop72015'].apply(lambda x : np.isnull()  states[x])\n"
   ]
  },
  {
   "cell_type": "code",
   "execution_count": null,
   "metadata": {
    "collapsed": false
   },
   "outputs": [],
   "source": [
    "%matplotlib inline\n",
    "import numpy as np\n",
    "import pandas as pd\n",
    "import matplotlib as mpl\n",
    "import matplotlib.pyplot as plt\n",
    "import seaborn as sns\n",
    "sns.set(color_codes=True)\n",
    "sns.lmplot(x=\"respop72015\", y=\"stars\", data=merged);"
   ]
  },
  {
   "cell_type": "code",
   "execution_count": null,
   "metadata": {
    "collapsed": false
   },
   "outputs": [],
   "source": [
    "print list(reviews.columns.values)\n",
    "reviews = pd.read_csv(\"data/yelp_academic_dataset_review.csv\",nrows=400)\n",
    "\n",
    "#reviews = reviews[['name','review_count', 'stars', 'type','city','state','business_id']]\n",
    "\n",
    "\n",
    "\n"
   ]
  },
  {
   "cell_type": "code",
   "execution_count": null,
   "metadata": {
    "collapsed": true
   },
   "outputs": [],
   "source": [
    "from sklearn.feature_extraction.text import CountVectorizer\n",
    "\n",
    "vectorizer = CountVectorizer(max_features = 1000,\n",
    "                             ngram_range=(1, 2),\n",
    "                             stop_words='english',\n",
    "                             binary=True)"
   ]
  },
  {
   "cell_type": "code",
   "execution_count": null,
   "metadata": {
    "collapsed": false
   },
   "outputs": [],
   "source": [
    "\n",
    "\n",
    "from sklearn.ensemble import RandomForestClassifier\n",
    "from sklearn.cross_validation import cross_val_score\n",
    "from sklearn.feature_extraction.text import TfidfVectorizer\n",
    "\n",
    "model = RandomForestClassifier(n_estimators = 20)\n",
    "\n",
    "text = reviews['text'].fillna('')\n",
    "\n",
    "vectorizer.fit(text)\n",
    "\n",
    "# Use `tranform` to generate the sample X word matrix - one column per feature (word or n-grams)\n",
    "#X = vectorizer.transform(text).toarray()\n",
    "\n",
    "\n",
    "\n",
    "#- Use `tranform` to generate the sample X word matrix - one column per feature (word or n-grams)\n",
    "X = vectorizer.transform(text)\n",
    "reviews['positivity'] = reviews['stars'].apply(lambda x : x > 3)\n",
    "y = reviews['positivity']\n",
    "\n",
    "scores = cross_val_score(model, X, y, scoring='roc_auc')\n",
    "print('CV AUC {}, Average AUC {}'.format(scores, scores.mean()))\n",
    "\n"
   ]
  },
  {
   "cell_type": "code",
   "execution_count": null,
   "metadata": {
    "collapsed": false
   },
   "outputs": [],
   "source": [
    "print list(reviews.columns.values)"
   ]
  },
  {
   "cell_type": "code",
   "execution_count": null,
   "metadata": {
    "collapsed": true
   },
   "outputs": [],
   "source": []
  }
 ],
 "metadata": {
  "anaconda-cloud": {},
  "kernelspec": {
   "display_name": "Python [Root]",
   "language": "python",
   "name": "Python [Root]"
  },
  "language_info": {
   "codemirror_mode": {
    "name": "ipython",
    "version": 2
   },
   "file_extension": ".py",
   "mimetype": "text/x-python",
   "name": "python",
   "nbconvert_exporter": "python",
   "pygments_lexer": "ipython2",
   "version": "2.7.12"
  }
 },
 "nbformat": 4,
 "nbformat_minor": 0
}
