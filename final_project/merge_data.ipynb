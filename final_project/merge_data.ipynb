{
 "cells": [
  {
   "cell_type": "code",
   "execution_count": 4,
   "metadata": {
    "collapsed": false
   },
   "outputs": [],
   "source": [
    "%matplotlib inline\n",
    "import numpy as np\n",
    "import pandas as pd\n",
    "import matplotlib as mpl\n",
    "import matplotlib.pyplot as plt\n",
    "import seaborn as sns\n",
    "import re\n",
    "\n",
    "# Strip non-alphanumeric from string\n",
    "def strip_nonalnum(s):\n",
    "    return \"\".join([c for c in s if c.isalnum() or c.isspace()])\n",
    "\n"
   ]
  },
  {
   "cell_type": "code",
   "execution_count": 5,
   "metadata": {
    "collapsed": false
   },
   "outputs": [],
   "source": [
    "sns.set(color_codes=True)\n",
    "\n",
    "#Create a starting dataframe of review data.\n",
    "reviews = pd.read_csv(\"data/yelp_academic_dataset_review.csv\",nrows=4000)\n",
    "reviews.describe()\n",
    "\n",
    "\n",
    "# Drop all reviews without a score\n",
    "reviews['stars'].dropna(axis=0,how='any',inplace=True)\n",
    "# Newlines to spaces.\n",
    "reviews['text'] = reviews['text'].apply(lambda x : re.sub('\\n',' ',x) )\n",
    "# Remove non-alphanumeric (or space) characters from all review texts\n",
    "reviews['text'] = reviews['text'].apply(strip_nonalnum)\n",
    "reviews['positivity'] = reviews['stars'].apply(lambda x : 1 if x > 3 else 0)\n",
    "\n",
    "\n",
    "\n"
   ]
  },
  {
   "cell_type": "code",
   "execution_count": 8,
   "metadata": {
    "collapsed": false
   },
   "outputs": [],
   "source": [
    "from sklearn.feature_extraction.text import CountVectorizer\n",
    "from sklearn.feature_extraction.text import TfidfVectorizer\n",
    "#vectorizer = CountVectorizer(max_features = 1000,\n",
    "#                             ngram_range=(1, 2),\n",
    "#                             stop_words='english',\n",
    "#                             binary=True)\n",
    "vectorizer = TfidfVectorizer()\n"
   ]
  },
  {
   "cell_type": "code",
   "execution_count": 48,
   "metadata": {
    "collapsed": false
   },
   "outputs": [
    {
     "name": "stdout",
     "output_type": "stream",
     "text": [
      "CV AUC [ 0.78394871  0.75358665  0.80180246], Average AUC 0.779779274628\n",
      "  (0, 19754)\t0.0914966332144\n",
      "  (0, 19748)\t0.214376364947\n",
      "  (0, 19410)\t0.0856966876108\n",
      "  (0, 19408)\t0.0661033809114\n",
      "  (0, 19119)\t0.12971508709\n",
      "  (0, 19055)\t0.206113410239\n",
      "  (0, 18918)\t0.0591095961859\n",
      "  (0, 18740)\t0.10154849922\n",
      "  (0, 17941)\t0.0645937249775\n",
      "  (0, 17826)\t0.200297420379\n",
      "  (0, 17693)\t0.0633754449272\n",
      "  (0, 17685)\t0.227999094047\n",
      "  (0, 17093)\t0.200297420379\n",
      "  (0, 16504)\t0.206113410239\n",
      "  (0, 15539)\t0.0908628294863\n",
      "  (0, 15517)\t0.119732817638\n",
      "  (0, 14876)\t0.140283086674\n",
      "  (0, 12836)\t0.184977411072\n",
      "  (0, 12482)\t0.103380439956\n",
      "  (0, 12414)\t0.0579550360933\n",
      "  (0, 12398)\t0.0703339155477\n",
      "  (0, 12340)\t0.0811703407166\n",
      "  (0, 12181)\t0.0978187340052\n",
      "  (0, 12109)\t0.107112081464\n",
      "  (0, 12074)\t0.1359691359\n",
      "  :\t:\n",
      "  (3999, 10843)\t0.164794056759\n",
      "  (3999, 10116)\t0.137685616249\n",
      "  (3999, 9919)\t0.0970967138043\n",
      "  (3999, 9409)\t0.118168853006\n",
      "  (3999, 8534)\t0.155674441906\n",
      "  (3999, 8404)\t0.0564377265488\n",
      "  (3999, 8075)\t0.200392529102\n",
      "  (3999, 8060)\t0.169253981574\n",
      "  (3999, 7870)\t0.13674178898\n",
      "  (3999, 7696)\t0.0632950444192\n",
      "  (3999, 7281)\t0.110320350816\n",
      "  (3999, 7264)\t0.112230753376\n",
      "  (3999, 6303)\t0.0867083940033\n",
      "  (3999, 6294)\t0.0861086972147\n",
      "  (3999, 4979)\t0.164065897641\n",
      "  (3999, 4931)\t0.172719440295\n",
      "  (3999, 4536)\t0.135831085378\n",
      "  (3999, 4240)\t0.109987623315\n",
      "  (3999, 2358)\t0.389417688893\n",
      "  (3999, 2134)\t0.0714165031516\n",
      "  (3999, 1729)\t0.128816405444\n",
      "  (3999, 1154)\t0.203495849102\n",
      "  (3999, 1132)\t0.11993820991\n",
      "  (3999, 899)\t0.0836591337257\n",
      "  (3999, 884)\t0.0749354388944\n"
     ]
    }
   ],
   "source": [
    "from sklearn.ensemble import RandomForestClassifier\n",
    "from sklearn.cross_validation import cross_val_score\n",
    "from sklearn.feature_extraction.text import TfidfVectorizer\n",
    "\n",
    "model = RandomForestClassifier(n_estimators = 20)\n",
    "\n",
    "text = reviews['text'].fillna('')\n",
    "vectorizer.fit(text)\n",
    "\n",
    "#- Use `tranform` to generate the sample X word matrix - one column per feature (word or n-grams)\n",
    "X = vectorizer.transform(text)\n",
    "\n",
    "features = vectorizer.get_feature_names()\n",
    "reviews['positivity'] = reviews['stars'].apply(lambda x : 1 if x > 3 else 0)\n",
    "y = reviews['positivity']\n",
    "\n",
    "\n",
    "\n",
    "scores = cross_val_score(model, X, y, scoring='roc_auc')\n",
    "\n",
    "print('CV AUC {}, Average AUC {}'.format(scores, scores.mean()))\n",
    "print X\n",
    "\n",
    "\n",
    "\n"
   ]
  },
  {
   "cell_type": "code",
   "execution_count": 59,
   "metadata": {
    "collapsed": false
   },
   "outputs": [
    {
     "name": "stdout",
     "output_type": "stream",
     "text": [
      "(1L,)\n",
      "[0]\n",
      "  feature                                              tfidf\n",
      "0      00    (0, 19827)\\t0.0833081581908\\n  (0, 19777)\\t0...\n"
     ]
    }
   ],
   "source": [
    "def top_tfidf_feats(row, features, top_n=25):\n",
    "    ''' Get top n tfidf values in row and return them with their corresponding feature names.'''\n",
    "    \n",
    "    top_n_ids = np.argsort(row)[::-1][:top_n] \n",
    "    print top_n_ids.shape\n",
    "    top_feats = [(features[i], row[i]) for i in top_n_ids]\n",
    "    print top_n_ids\n",
    "    df = pd.DataFrame(top_feats)\n",
    "    df.columns = ['feature', 'tfidf']\n",
    "    return df\n",
    "    \n",
    "foo =top_tfidf_feats(X[2], features)\n",
    "print foo\n",
    "    \n",
    "def top_tfidf_feats_in_doc(Xtr, features, row_id, top_n=5):\n",
    "    ''' Top tfidf features in specific document (matrix row) '''\n",
    "    row = np.squeeze(np.asarray(Xtr[row_id]).flatten())\n",
    "    print row\n",
    "    \n",
    "    \n",
    "    return top_tfidf_feats(row, features, top_n)\n",
    "\n",
    "\n",
    "def top_mean_feats(Xtr, features, min_tfidf=0.01, top_n=5):\n",
    "    ''' Return the top n features that on average are most important amongst documents in rows\n",
    "        indentified by indices in grp_ids. '''\n",
    "    D = Xtr.toarray()\n",
    "    \n",
    "    D[D < min_tfidf] = 0\n",
    "    tfidf_means = np.mean(D, axis=0)\n",
    "    \n",
    "    return top_tfidf_feats_in_doc(tfidf_means, features, top_n)\n",
    "\n",
    "#print top_tfidf_feats_in_doc(X,features,1)\n",
    "\n",
    "#print top_mean_feats(X,features)\n",
    "\n"
   ]
  },
  {
   "cell_type": "code",
   "execution_count": null,
   "metadata": {
    "collapsed": true
   },
   "outputs": [],
   "source": []
  },
  {
   "cell_type": "code",
   "execution_count": null,
   "metadata": {
    "collapsed": true
   },
   "outputs": [],
   "source": []
  }
 ],
 "metadata": {
  "anaconda-cloud": {},
  "kernelspec": {
   "display_name": "Python [Root]",
   "language": "python",
   "name": "Python [Root]"
  }
 },
 "nbformat": 4,
 "nbformat_minor": 0
}
